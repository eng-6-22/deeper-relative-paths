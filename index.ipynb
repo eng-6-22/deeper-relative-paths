{
 "cells": [
  {
   "cell_type": "markdown",
   "id": "a01a4227-052b-4982-a157-432ba538f901",
   "metadata": {},
   "source": [
    "# Deeper Relative Paths"
   ]
  },
  {
   "cell_type": "markdown",
   "id": "a5f725f0-fc04-41f5-8d87-ac21ff59db8a",
   "metadata": {},
   "source": [
    "### Introduction"
   ]
  },
  {
   "cell_type": "markdown",
   "id": "5bd06ba1-cb4f-46ae-bc2d-851b4bfed633",
   "metadata": {},
   "source": [
    "So now we have seen how to import functions into files.  But it turns out, there are still some things that may surprise us.\n",
    "\n",
    "Let's stick with our rolling stones codebase, and this time move onto working with our `top_songs` module."
   ]
  },
  {
   "cell_type": "markdown",
   "id": "d1a09dbe-8899-4ad1-b16e-bc4e39866de4",
   "metadata": {},
   "source": [
    "### Reviewing our codebase"
   ]
  },
  {
   "cell_type": "markdown",
   "id": "4545215b-1234-48f6-b3a0-0a8c1204c63f",
   "metadata": {},
   "source": [
    "Our codebase is in the current structure, with our code in the `src` directory.  "
   ]
  },
  {
   "cell_type": "markdown",
   "id": "78cd4de6-555c-4c31-b79f-fe7c8349ded5",
   "metadata": {},
   "source": [
    "```\n",
    "rolling_stones\n",
    "├── console.py\n",
    "├── data\n",
    "│   ├── data.csv\n",
    "│   ├── top-500-songs.txt\n",
    "│   ├── track_data.csv\n",
    "│   └── track_data.json\n",
    "└── src\n",
    "    ├── album.py\n",
    "    ├── song.py\n",
    "    └── top_songs.py\n",
    "```"
   ]
  },
  {
   "cell_type": "markdown",
   "id": "eb137ebc",
   "metadata": {},
   "source": [
    "If we look at the `console.py` file, we can see that we loaded code from our `album` module, and the `song` module.\n",
    "\n",
    "```python\n",
    "import pandas as pd\n",
    "from src.song import find_song\n",
    "\n",
    "from src.album import tracks\n",
    "```"
   ]
  },
  {
   "cell_type": "markdown",
   "id": "e5fe1e16",
   "metadata": {},
   "source": [
    "And then we work can interact with our code by running `python3 -i console.py`. "
   ]
  },
  {
   "cell_type": "markdown",
   "id": "b012d5ca",
   "metadata": {},
   "source": [
    "### Adding the top_songs file\n",
    "\n",
    "Now let's try to load code from the `top_songs.py` file into our console.py.  We can do so by updating the `console.py` file to be the following:\n",
    "\n",
    "```python\n",
    "import pandas as pd\n",
    "from src.song import find_song\n",
    "from src.album import tracks\n",
    "\n",
    "from src.top_songs import * # new line\n",
    "```\n",
    "\n",
    "Now if we run `python3 -i console.py`, we'll get the following error.\n",
    "\n"
   ]
  },
  {
   "cell_type": "markdown",
   "id": "9ba637e5",
   "metadata": {},
   "source": [
    "```python\n",
    "rolling_stones/console.py\", line 5, in <module>\n",
    "from src.top_songs import *\n",
    "rolling_stones/src/top_songs.py\", line 1, in <module>\n",
    "    from album import tracks\n",
    "ModuleNotFoundError: No module named 'album'\n",
    "```"
   ]
  },
  {
   "cell_type": "markdown",
   "id": "100501fc",
   "metadata": {},
   "source": [
    "Let's take a moment to understand this.  If we start at the top, we can see that the error is caused by line 5 of the `console.py` file.  And that is where the we have the code `from src.top_songs import *`.  Then when Python moves to load code from the top_songs file, it runs into an error in line 1 (we see this in the next line of the error message).  There it runs into an error with the line `from album import tracks`.  As we see in the error message, it cannot find the module of `album`.\n",
    "\n",
    "### Going further\n",
    "\n",
    "Ok, so now that we understand that error occurs with the line `from album import tracks` in our `top_songs` file, let's understand why that is occurring.\n",
    "\n",
    "It's occurring because we are still kicking off our code from the `rolling_stones` directory when we run `python3 -i console.py`.  And so Python will continue to look for modules relative to the *rolling_stones* directory.\n",
    "\n",
    "So this means that we need to change our code to be in the `top_songs.py` file to be the following: \n",
    "`from src.album import tracks`.  Similarly we can change the other import statement in `top_songs.py` so that our updated file looks like the following:\n",
    "\n",
    "```python\n",
    "from src.album import tracks\n",
    "\n",
    "from src.song import find_song\n",
    "```"
   ]
  },
  {
   "cell_type": "markdown",
   "id": "8d3e6fd3",
   "metadata": {},
   "source": [
    "With that we can run our `console.py` file."
   ]
  },
  {
   "cell_type": "markdown",
   "id": "7efabbf6",
   "metadata": {},
   "source": [
    "```bash\n",
    "python3 -i console.py\n",
    "```"
   ]
  },
  {
   "cell_type": "markdown",
   "id": "545df8f2-a9f5-4cfe-b271-9a2e57160031",
   "metadata": {},
   "source": [
    "### Summary"
   ]
  },
  {
   "cell_type": "markdown",
   "id": "945e613b",
   "metadata": {},
   "source": [
    "In this lesson, we saw how to import code from deeper in our Python codebase.  As we saw, when we specify the path to a file, we still do so relative to the code that first kicked off our Python script.  So in this case, we still specify the file path relative to the `rolling_stones` folder, because that is the folder we are in when running the code."
   ]
  }
 ],
 "metadata": {
  "kernelspec": {
   "display_name": "Python 3.9.10 64-bit",
   "language": "python",
   "name": "python3"
  },
  "language_info": {
   "codemirror_mode": {
    "name": "ipython",
    "version": 3
   },
   "file_extension": ".py",
   "mimetype": "text/x-python",
   "name": "python",
   "nbconvert_exporter": "python",
   "pygments_lexer": "ipython3",
   "version": "3.9.10"
  },
  "vscode": {
   "interpreter": {
    "hash": "aee8b7b246df8f9039afb4144a1f6fd8d2ca17a180786b69acc140d282b71a49"
   }
  }
 },
 "nbformat": 4,
 "nbformat_minor": 5
}
